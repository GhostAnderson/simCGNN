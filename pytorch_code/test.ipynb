{
 "cells": [
  {
   "cell_type": "code",
   "execution_count": 36,
   "metadata": {},
   "outputs": [],
   "source": [
    "import pandas as pd\n",
    "import numpy as np"
   ]
  },
  {
   "cell_type": "code",
   "execution_count": 37,
   "metadata": {},
   "outputs": [],
   "source": [
    "import pickle"
   ]
  },
  {
   "cell_type": "code",
   "execution_count": 38,
   "metadata": {},
   "outputs": [],
   "source": [
    "test_data = pickle.load(open('./test.txt', 'rb'))"
   ]
  },
  {
   "cell_type": "code",
   "execution_count": 39,
   "metadata": {},
   "outputs": [],
   "source": [
    "res = []\n",
    "for i in zip(*test_data):\n",
    "    sess, gt = i\n",
    "    if sess[-1] == 33889:\n",
    "        res.append(gt)"
   ]
  },
  {
   "cell_type": "code",
   "execution_count": 40,
   "metadata": {},
   "outputs": [],
   "source": [
    "from collections import Counter\n",
    "res_cnt = Counter(res)"
   ]
  },
  {
   "cell_type": "code",
   "execution_count": 44,
   "metadata": {},
   "outputs": [],
   "source": [
    "np.save('gt_cnt', res_cnt)"
   ]
  },
  {
   "cell_type": "code",
   "execution_count": 42,
   "metadata": {},
   "outputs": [],
   "source": [
    "output_list = np.load('res.list.npy', allow_pickle=True)"
   ]
  },
  {
   "cell_type": "code",
   "execution_count": 20,
   "metadata": {},
   "outputs": [
    {
     "data": {
      "text/plain": [
       "60858"
      ]
     },
     "execution_count": 20,
     "metadata": {},
     "output_type": "execute_result"
    }
   ],
   "source": [
    "len(output_list)"
   ]
  },
  {
   "cell_type": "code",
   "execution_count": 49,
   "metadata": {},
   "outputs": [],
   "source": [
    "res_simcgnn = []\n",
    "for i in output_list:\n",
    "    if i[0] == 33889:\n",
    "        res_simcgnn+=i[-1][:10]\n",
    "res_simcgnn = list(map(lambda x: x+1, res_simcgnn))"
   ]
  },
  {
   "cell_type": "code",
   "execution_count": 50,
   "metadata": {},
   "outputs": [],
   "source": [
    "res_simcgnn_cnt = Counter(res_simcgnn)\n",
    "np.save('simcgnn_cnt', res_simcgnn_cnt)"
   ]
  },
  {
   "cell_type": "code",
   "execution_count": 51,
   "metadata": {},
   "outputs": [
    {
     "data": {
      "text/plain": [
       "Counter({33889: 126,\n",
       "         31497: 1,\n",
       "         33890: 114,\n",
       "         131: 120,\n",
       "         32638: 100,\n",
       "         34245: 109,\n",
       "         3246: 1,\n",
       "         19: 8,\n",
       "         2933: 2,\n",
       "         2312: 6,\n",
       "         549: 5,\n",
       "         41895: 2,\n",
       "         41194: 1,\n",
       "         2476: 1,\n",
       "         41195: 1,\n",
       "         16068: 1,\n",
       "         5676: 1,\n",
       "         1884: 1,\n",
       "         2227: 1,\n",
       "         2226: 1,\n",
       "         9169: 1,\n",
       "         2552: 1,\n",
       "         1103: 2,\n",
       "         8663: 2,\n",
       "         156: 1,\n",
       "         4719: 1,\n",
       "         41616: 1,\n",
       "         33518: 1,\n",
       "         1102: 2,\n",
       "         22129: 1,\n",
       "         20258: 2,\n",
       "         29635: 1,\n",
       "         37443: 1,\n",
       "         550: 1,\n",
       "         1288: 1,\n",
       "         14576: 1,\n",
       "         15023: 1,\n",
       "         4945: 1,\n",
       "         9145: 1,\n",
       "         1594: 1,\n",
       "         944: 1,\n",
       "         2548: 1,\n",
       "         1014: 1,\n",
       "         36056: 1,\n",
       "         37470: 1,\n",
       "         599: 1,\n",
       "         305: 1,\n",
       "         1892: 1,\n",
       "         514: 1})"
      ]
     },
     "execution_count": 51,
     "metadata": {},
     "output_type": "execute_result"
    }
   ],
   "source": [
    "res_simcgnn_cnt"
   ]
  },
  {
   "cell_type": "code",
   "execution_count": null,
   "metadata": {},
   "outputs": [],
   "source": []
  }
 ],
 "metadata": {
  "kernelspec": {
   "display_name": "base",
   "language": "python",
   "name": "python3"
  },
  "language_info": {
   "codemirror_mode": {
    "name": "ipython",
    "version": 3
   },
   "file_extension": ".py",
   "mimetype": "text/x-python",
   "name": "python",
   "nbconvert_exporter": "python",
   "pygments_lexer": "ipython3",
   "version": "3.8.5"
  },
  "orig_nbformat": 4
 },
 "nbformat": 4,
 "nbformat_minor": 2
}
